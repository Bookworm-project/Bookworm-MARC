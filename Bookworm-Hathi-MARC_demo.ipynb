{
 "cells": [
  {
   "cell_type": "markdown",
   "metadata": {
    "collapsed": true
   },
   "source": []
  },
  {
   "cell_type": "code",
   "execution_count": 1,
   "metadata": {
    "collapsed": false
   },
   "outputs": [],
   "source": [
    "import pymarc\n",
    "import gzip\n",
    "import random\n",
    "import json\n",
    "from bookwormMARC.bookwormMARC import parse_record"
   ]
  },
  {
   "cell_type": "code",
   "execution_count": 2,
   "metadata": {
    "collapsed": false
   },
   "outputs": [
    {
     "data": {
      "text/plain": [
       "'/Volumes/drobo/hathi_metadata'"
      ]
     },
     "execution_count": 2,
     "metadata": {},
     "output_type": "execute_result"
    }
   ],
   "source": [
    "import os\n",
    "os.getcwd()"
   ]
  },
  {
   "cell_type": "markdown",
   "metadata": {},
   "source": [
    "The following code block from https://github.com/rlmv/hathitrust-soer/blob/master/marc/records.py\n",
    "\n",
    "It works on publication dates. Does it also work on author birth and death years?"
   ]
  },
  {
   "cell_type": "code",
   "execution_count": 3,
   "metadata": {
    "collapsed": false
   },
   "outputs": [],
   "source": [
    "%load_ext autoreload\n",
    "%autoreload 2"
   ]
  },
  {
   "cell_type": "code",
   "execution_count": null,
   "metadata": {
    "collapsed": true
   },
   "outputs": [],
   "source": []
  },
  {
   "cell_type": "code",
   "execution_count": 123,
   "metadata": {
    "collapsed": false
   },
   "outputs": [],
   "source": [
    "# This would be easier to demo if this could be loaded over the web. But that apparently will take Python 3.\n",
    "#import urllib2\n",
    "\n",
    "#file = urllib2.urlopen(\"https://dpla-provider-export.s3.amazonaws.com/2016/04/hathitrust.json.gz\")\n",
    "\n",
    "hathi_records = gzip.open(\"json/hathitrust.json.gz\")"
   ]
  },
  {
   "cell_type": "markdown",
   "metadata": {},
   "source": [
    "Here is an example of the output of this script on Hathi books: 5 randomly selected records from the first 50000 or so in the DPLA dump. This is usually more than 5 *items*: Hathi groups multiple items into a single record."
   ]
  },
  {
   "cell_type": "code",
   "execution_count": 135,
   "metadata": {
    "collapsed": false
   },
   "outputs": [
    {
     "name": "stdout",
     "output_type": "stream",
     "text": [
      "{\"libraryB\": \"HVD\", \"lc_class_from_lc\": true, \"searchstring\": \"<a href=https://babel.hathitrust.org/cgi/pt?id=hvd.hn6gke><em>The life of the Rev. John Owen, D.D., abridged from Orme's Life of Owen.</em> (1840)\", \"lc2\": \"9225.\", \"scanner\": \"google\", \"lc0\": \"B\", \"lc1\": \"BX\", \"first_author_death\": 1830, \"title\": \"The life of the Rev. John Owen, D.D., abridged from Orme's Life of Owen.\", \"permalink\": \"https://babel.hathitrust.org/cgi/pt?id=hvd.hn6gke\", \"filename\": \"hvd.hn6gke\", \"libraryC\": \"HVD\", \"date\": 1840, \"first_author_birth\": 1787, \"first_place\": \"Philadelphia,\", \"first_author_name\": \"Orme, William, 1787-1830.\", \"first_publisher\": \"Presbyterian board of publication,\", \"date_source\": \"008\"}\n",
      "\n",
      "{\"libraryB\": \"HVD\", \"permalink\": \"https://babel.hathitrust.org/cgi/pt?id=hvd.32044068333434\", \"searchstring\": \"<a href=https://babel.hathitrust.org/cgi/pt?id=hvd.32044068333434><em>Shuo jiao /</em> (1896)\", \"scanner\": \"google\", \"title\": \"Shuo jiao /\", \"filename\": \"hvd.32044068333434\", \"libraryC\": \"HVD\", \"date\": 1896, \"first_place\": \"Beijing] :\", \"first_author_name\": \"880-01 Peng, Guangyu.\", \"first_publisher\": \"Wen guang zhai,\", \"date_source\": \"008\"}\n",
      "\n",
      "{\"libraryB\": \"MIU\", \"permalink\": \"https://babel.hathitrust.org/cgi/pt?id=mdp.39015064377347\", \"searchstring\": \"<a href=https://babel.hathitrust.org/cgi/pt?id=mdp.39015064377347><em>Dynamik der Leistungsregelung von Kolbenkompressoren und-pumpen (einschl. Selbstregelung und Parallelbetrieb).</em> (1921)\", \"scanner\": \"google\", \"title\": \"Dynamik der Leistungsregelung von Kolbenkompressoren und-pumpen (einschl. Selbstregelung und Parallelbetrieb).\", \"filename\": \"mdp.39015064377347\", \"libraryC\": \"MIU\", \"date\": 1921, \"first_place\": \"Berlin,\", \"first_author_name\": \"Walther, Leo.\", \"first_publisher\": \"J. Springer,\", \"date_source\": \"008\"}\n",
      "\n",
      "{\"libraryB\": \"NYP\", \"permalink\": \"https://babel.hathitrust.org/cgi/pt?id=nyp.33433090914411\", \"searchstring\": \"<a href=https://babel.hathitrust.org/cgi/pt?id=nyp.33433090914411><em>Dynamik der Leistungsregelung von Kolbenkompressoren und-pumpen (einschl. Selbstregelung und Parallelbetrieb).</em> (1921)\", \"scanner\": \"google\", \"title\": \"Dynamik der Leistungsregelung von Kolbenkompressoren und-pumpen (einschl. Selbstregelung und Parallelbetrieb).\", \"filename\": \"nyp.33433090914411\", \"libraryC\": \"NYP\", \"date\": 1921, \"first_place\": \"Berlin,\", \"first_author_name\": \"Walther, Leo.\", \"first_publisher\": \"J. Springer,\", \"date_source\": \"008\"}\n",
      "\n",
      "{\"libraryB\": \"UC\", \"permalink\": \"https://babel.hathitrust.org/cgi/pt?id=uc1.b4870314\", \"searchstring\": \"<a href=https://babel.hathitrust.org/cgi/pt?id=uc1.b4870314><em>Conrad Ferdinand Meyer : eine litterarische Skizze zu des Dichters 60. Geburtstage /</em> (1885)\", \"scanner\": \"google\", \"title\": \"Conrad Ferdinand Meyer : eine litterarische Skizze zu des Dichters 60. Geburtstage /\", \"filename\": \"uc1.b4870314\", \"libraryC\": \"NRLF\", \"date\": 1885, \"first_author_birth\": 1856, \"first_place\": \"Leipzig :\", \"first_author_name\": \"Reitler, Anton, 1856-\", \"first_publisher\": \"H. Haessel,\", \"date_source\": \"008\"}\n",
      "\n",
      "{\"libraryB\": \"UC\", \"lc_class_from_lc\": true, \"searchstring\": \"<a href=https://babel.hathitrust.org/cgi/pt?id=uc1.$b118395><em>A laboratory manual of physiological and pathological chemistry. For students in medicine,</em> (1904)\", \"lc2\": \"514\", \"scanner\": \"google\", \"lc0\": \"Q\", \"lc1\": \"QP\", \"first_author_death\": 1923, \"title\": \"A laboratory manual of physiological and pathological chemistry. For students in medicine,\", \"permalink\": \"https://babel.hathitrust.org/cgi/pt?id=uc1.$b118395\", \"filename\": \"uc1.$b118395\", \"libraryC\": \"NRLF\", \"date\": 1904, \"first_author_birth\": 1844, \"first_place\": \"New York,\", \"first_author_name\": \"Salkowski, Ernst Leopold, 1844-1923.\", \"first_publisher\": \"J. Wiley  [etc., etc.]\", \"date_source\": \"008\"}\n",
      "\n",
      "{\"libraryB\": \"HVD\", \"permalink\": \"https://babel.hathitrust.org/cgi/pt?id=hvd.32044059341081\", \"searchstring\": \"<a href=https://babel.hathitrust.org/cgi/pt?id=hvd.32044059341081><em>A magyar \\u00fcgyv\\u00e9ds\\u00e9g. K\\u00e9zik\\u00f6nyv az \\u00fcgyv\\u00e9ds\\u00e9gre vonatkoz\\u00f3 \\u00f6sszes t\\u00f6rv\\u00e9nyek \\u00e9s rendeletekb\\u00f6l, a kir. Curia, budapesti kir. it\\u00e9l\\u00f6t\\u00e1bla \\u00e9s p\\u00e9nz\\u00fcgyi k\\u00f6zigazgat\\u00e1si bir\\u00f3s\\u00e1g elvi jelent\\u00f6s\\u00e9g\\u00fc hat\\u00e1rozataib\\u00f3l, valamint a budapesti \\u00fcgyv\\u00e9di kamara gyakorlat\\u00e1b\\u00f3l.</em> (1888)\", \"scanner\": \"google\", \"title\": \"A magyar \\u00fcgyv\\u00e9ds\\u00e9g. K\\u00e9zik\\u00f6nyv az \\u00fcgyv\\u00e9ds\\u00e9gre vonatkoz\\u00f3 \\u00f6sszes t\\u00f6rv\\u00e9nyek \\u00e9s rendeletekb\\u00f6l, a kir. Curia, budapesti kir. it\\u00e9l\\u00f6t\\u00e1bla \\u00e9s p\\u00e9nz\\u00fcgyi k\\u00f6zigazgat\\u00e1si bir\\u00f3s\\u00e1g elvi jelent\\u00f6s\\u00e9g\\u00fc hat\\u00e1rozataib\\u00f3l, valamint a budapesti \\u00fcgyv\\u00e9di kamara gyakorlat\\u00e1b\\u00f3l.\", \"first_author_death\": 1917, \"filename\": \"hvd.32044059341081\", \"libraryC\": \"HVD\", \"date\": 1888, \"first_author_birth\": 1863, \"first_place\": \"Budapest,\", \"first_author_name\": \"Reiner, Ign\\u00e1c, 1863-1917.\", \"first_publisher\": \"Neuwald I.,\", \"date_source\": \"008\"}\n",
      "\n"
     ]
    }
   ],
   "source": [
    "n=0\n",
    "for line in hathi_records:\n",
    "    if random.random() > .0001:\n",
    "        # Print random files each time for debugging\n",
    "        continue\n",
    "    n+=1\n",
    "    if line.startswith(\",\"):\n",
    "        # This lets us parse the JSON array 1 row at a time.\n",
    "        line = line[1:]\n",
    "    if line == \"[\\n\" or line==\"]\\n\":\n",
    "        # They helpfully format the JSON so the array bars are on their own lines\n",
    "        continue\n",
    "    rec = parse_record(line)\n",
    "    for entry in rec.hathi_bookworm_dicts():\n",
    "        print json.dumps(entry)\n",
    "        print \"\"\n",
    "    if n>5:\n",
    "        break\n"
   ]
  },
  {
   "cell_type": "markdown",
   "metadata": {},
   "source": [
    "The following block shows that something like 1 in 3 items, in about one in ten records, have a different entry in the 974y field from the native date field. That suggests huge possibilities for improving dates if we're not already using the 974y fields: I suspect we are not based on the serial volumes that include 974y fields I see in the online browser."
   ]
  },
  {
   "cell_type": "code",
   "execution_count": 134,
   "metadata": {
    "collapsed": false
   },
   "outputs": [
    {
     "name": "stdout",
     "output_type": "stream",
     "text": [
      "147 out of 1001 records and 660 out of 1854 items have differing dates\n"
     ]
    }
   ],
   "source": [
    "records = 0\n",
    "diff_records = 0\n",
    "items = 0\n",
    "diff_items = 0\n",
    "for line in hathi_records:\n",
    "    if random.random() > .01:\n",
    "        # Print random files each time for debugging\n",
    "        continue\n",
    "    records += 1\n",
    "    if line.startswith(\",\"):\n",
    "        # This lets us parse the JSON array 1 row at a time.\n",
    "        line = line[1:]\n",
    "    if line == \"[\\n\" or line==\"]\\n\":\n",
    "        # They helpfully format the JSON so the array bars are on their own lines\n",
    "        continue\n",
    "    rec = parse_record(line)\n",
    "    line_counted = False\n",
    "    for field in rec.get_fields('974'):\n",
    "        items += 1\n",
    "        if str(field['y']) != str(rec.date()):\n",
    "            if not line_counted:\n",
    "                diff_records += 1\n",
    "                line_counted = True\n",
    "            diff_items +=1\n",
    "    if records>1000:\n",
    "        break\n",
    "\n",
    "        \n",
    "        \n",
    "print \"%i out of %i records and %i out of %i items have differing dates\" %(diff_records,records,diff_items,items)"
   ]
  },
  {
   "cell_type": "code",
   "execution_count": 122,
   "metadata": {
    "collapsed": false
   },
   "outputs": [
    {
     "data": {
      "text/plain": [
       "0"
      ]
     },
     "execution_count": 122,
     "metadata": {},
     "output_type": "execute_result"
    }
   ],
   "source": [
    "records"
   ]
  },
  {
   "cell_type": "code",
   "execution_count": 118,
   "metadata": {
    "collapsed": false
   },
   "outputs": [],
   "source": []
  },
  {
   "cell_type": "code",
   "execution_count": null,
   "metadata": {
    "collapsed": true
   },
   "outputs": [],
   "source": []
  }
 ],
 "metadata": {
  "kernelspec": {
   "display_name": "Python 2",
   "language": "python",
   "name": "python2"
  },
  "language_info": {
   "codemirror_mode": {
    "name": "ipython",
    "version": 2
   },
   "file_extension": ".py",
   "mimetype": "text/x-python",
   "name": "python",
   "nbconvert_exporter": "python",
   "pygments_lexer": "ipython2",
   "version": "2.7.11"
  }
 },
 "nbformat": 4,
 "nbformat_minor": 0
}
