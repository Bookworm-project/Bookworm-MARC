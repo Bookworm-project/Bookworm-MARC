{
 "cells": [
  {
   "cell_type": "markdown",
   "metadata": {
    "deletable": true,
    "editable": true
   },
   "source": [
    "Some imports. Overzealous, copied from a different notebook."
   ]
  },
  {
   "cell_type": "code",
   "execution_count": 14,
   "metadata": {
    "collapsed": false,
    "deletable": true,
    "editable": true
   },
   "outputs": [
    {
     "name": "stdout",
     "output_type": "stream",
     "text": [
      "The autoreload extension is already loaded. To reload it, use:\n",
      "  %reload_ext autoreload\n"
     ]
    }
   ],
   "source": [
    "%load_ext autoreload\n",
    "%autoreload 2"
   ]
  },
  {
   "cell_type": "code",
   "execution_count": 25,
   "metadata": {
    "collapsed": false,
    "deletable": true,
    "editable": true
   },
   "outputs": [],
   "source": [
    "import pymarc\n",
    "import random\n",
    "from bookwormMARC.bookwormMARC import BRecord\n",
    "from bookwormMARC.bookwormMARC import parse_record\n",
    "from bookwormMARC.hathi_methods import All_Hathi\n",
    "from bookwormMARC.bookwormMARC import LCCallNumber\n",
    "from bookwormMARC.hathi_methods import loc_yielder\n",
    "import bz2\n",
    "import bookwormMARC\n",
    "import sys\n",
    "import os\n",
    "from collections import defaultdict\n",
    "\n",
    "\n",
    "#all_files = hathi_record_yielder()\n",
    "import pymarc\n",
    "import ujson as json\n",
    "import gzip"
   ]
  },
  {
   "cell_type": "markdown",
   "metadata": {
    "deletable": true,
    "editable": true
   },
   "source": [
    "This converts a json object into a MARC class so the existing methods will work"
   ]
  },
  {
   "cell_type": "code",
   "execution_count": 50,
   "metadata": {
    "collapsed": false,
    "deletable": true,
    "editable": true
   },
   "outputs": [
    {
     "name": "stdout",
     "output_type": "stream",
     "text": [
      "/home/bschmidt/LOC_catalog/books/BooksAll.2014.part24.utf8\n",
      "/home/bschmidt/LOC_catalog/books/BooksAll.2014.part33.utf8\n",
      "/home/bschmidt/LOC_catalog/books/BooksAll.2014.part10.utf8\n",
      "/home/bschmidt/LOC_catalog/books/BooksAll.2014.part03.utf8\n",
      "/home/bschmidt/LOC_catalog/books/BooksAll.2014.part13.utf8\n",
      "/home/bschmidt/LOC_catalog/books/BooksAll.2014.part38.utf8\n",
      "{'literary_form': 'Not fiction', 'language': 'Italian', 'serial_killer_guess': 'book', 'cataloging_source': u' ', 'first_author_name': u'Dalfino, Domenico.', 'lc0': 'K', 'title': u\"Questioni di diritto e giudicato : contributo allo studio dell'accertamento delle fattispecie preliminari /\", 'lccn': u'2009432168', 'lc1': 'KKH', 'target_audience': 'Unknown or not specified', 'lcc': 'KKH1710', 'subject_places': [u'e-it---'], 'first_place': u'Torino :', 'lc_class_from_lc': True, 'first_publisher': u'G. Giappichelli,', 'lc2': '1710', 'marc_record_created': u'2009-05-11', 'publication_country': 'Italy', 'government_document': 'Unknown', 'resource_type': 'book', 'record_date': 2008}\n",
      "{'literary_form': 'Not fiction', 'language': 'Italian', 'serial_killer_guess': 'book', 'cataloging_source': u' ', 'first_author_name': u'Ferrante, Mario.', 'lc0': 'K', 'title': u\"L'apporto del diritto canonico nella disciplina delle pie volonta\\u0300 fiduciarie testamentarie del diritto inglese /\", 'lccn': u'2009432169', 'lc1': 'KD', 'target_audience': 'Unknown or not specified', 'lcc': 'KD1483', 'subject_places': [u'e-uk---'], 'first_place': u'Milano :', 'lc_class_from_lc': True, 'first_publisher': u'A. Giuffre\\u0300,', 'lc2': '1483', 'marc_record_created': u'2009-05-11', 'publication_country': 'Italy', 'government_document': 'Unknown', 'resource_type': 'book', 'record_date': 2008}\n",
      "{'literary_form': 'Not fiction', 'language': 'Italian', 'serial_killer_guess': 'book', 'cataloging_source': u' ', 'first_author_name': u'Foccillo, Antonio.', 'lc0': 'K', 'title': u'Il rapporto di lavoro pubblico attraverso i contratti /', 'lccn': u'2009432170', 'lc1': 'KKH', 'target_audience': 'Unknown or not specified', 'lcc': 'KKH2984.5', 'subject_places': [u'e-it---'], 'first_place': u'Torino :', 'lc_class_from_lc': True, 'first_publisher': u'G. Giappichelli,', 'lc2': '2984.5', 'marc_record_created': u'2009-05-11', 'publication_country': 'Italy', 'government_document': 'Unknown', 'resource_type': 'book', 'record_date': 2009}\n",
      "{'literary_form': 'Not fiction', 'language': 'Italian', 'serial_killer_guess': 'book', 'cataloging_source': u' ', 'publication_country': 'Italy', 'lc0': 'K', 'title': u'Giusto processo e riti speciali /', 'lccn': u'2009432171', 'lc1': 'KKH', 'target_audience': 'Unknown or not specified', 'lcc': 'KKH1651', 'subject_places': [u'e-it---'], 'first_place': u'Milano :', 'lc_class_from_lc': True, 'first_publisher': u'Giuffre\\u0300,', 'lc2': '1651', 'marc_record_created': u'2009-05-11', 'government_document': 'Unknown', 'resource_type': 'book', 'record_date': 2009}\n",
      "{'literary_form': 'Not fiction', 'language': 'Italian', 'serial_killer_guess': 'book', 'cataloging_source': u'd', 'publication_country': 'Italy', 'lc0': 'K', 'title': u'Le misure cautelari personali : aggiornato al d.l. 23 febbraio 2009, n. 11 /', 'lccn': u'2009432172', 'lc1': 'KKH', 'target_audience': 'Unknown or not specified', 'lcc': 'KKH4657', 'subject_places': [u'e-it---'], 'first_place': u'Torino :', 'lc_class_from_lc': True, 'first_publisher': u'G. Giappichelli,', 'lc2': '4657', 'marc_record_created': u'2009-05-11', 'government_document': 'Unknown', 'resource_type': 'book', 'record_date': 2009}\n",
      "{'literary_form': 'Not fiction', 'serial_killer_guess': 'book', 'cataloging_source': u'd', 'first_author_name': u'Napolitano, Giulio.', 'lc0': 'K', 'title': u'Analisi economica del diritto pubblico : teorie, applicazioni e limiti /', 'lccn': u'2009432173', 'lc1': 'K', 'target_audience': 'Unknown or not specified', 'lcc': 'K3150', 'language': 'Italian', 'first_place': u'Bologna :', 'lc_class_from_lc': True, 'first_publisher': u'Il mulino,', 'lc2': '3150', 'marc_record_created': u'2009-05-11', 'publication_country': 'Italy', 'government_document': 'Unknown', 'resource_type': 'book', 'record_date': 2009}\n",
      "{'cataloging_source': u' ', 'lc0': 'K', 'lc1': 'KKH', 'first_author_birth': 1965, 'lc2': '3110', 'government_document': 'Unknown', 'literary_form': 'Not fiction', 'serial_killer_guess': 'book', 'publication_country': 'Italy', 'title': u'La distribuzione dei poteri in sanita\\u0300 : le ipotesi di sostituzione del Governo nella gestione delle politiche di spesa delle regioni /', 'first_author_name': u'Nardone, Antonio, 1965-', 'target_audience': 'Unknown or not specified', 'lcc': 'KKH3110', 'lc_class_from_lc': True, 'first_publisher': u'Jovene,', 'language': 'Italian', 'lccn': u'2009432174', 'subject_places': [u'e-it---'], 'record_date': 2009, 'marc_record_created': u'2009-05-11', 'resource_type': 'book', 'first_place': u'Napoli, Italia :'}\n",
      "{'literary_form': 'Not fiction', 'language': 'Italian', 'serial_killer_guess': 'book', 'cataloging_source': u' ', 'publication_country': 'Italy', 'lc0': 'K', 'title': u\"Il processo e la conversione del conflitto : relazioni ed interventi dell'incontro di studi, nel trentesimo anniversario dell'omicidio di Fulvio Croce  /\", 'lccn': u'2009432175', 'lc1': 'KKH', 'target_audience': 'Unknown or not specified', 'lcc': 'KKH4351.5.A67', 'subject_places': [u'e-it---'], 'first_place': u'Padova :', 'lc_class_from_lc': True, 'first_publisher': u'CEDAM,', 'lc2': '4351.5.', 'marc_record_created': u'2009-05-11', 'government_document': 'Unknown', 'resource_type': 'book', 'record_date': 2009}\n",
      "{'literary_form': 'Not fiction', 'language': 'Italian', 'serial_killer_guess': 'book', 'cataloging_source': u' ', 'first_author_name': u'Protetti\\u0300, Ettore.', 'lc0': 'K', 'title': u'La legge notarile : commento con dottrina e giurisprudenza delle leggi notarili /', 'lccn': u'2009432176', 'lc1': 'KKH', 'target_audience': 'Unknown or not specified', 'lcc': 'KKH1846', 'subject_places': [u'e-it---'], 'first_place': u'Milano :', 'lc_class_from_lc': True, 'first_publisher': u'Giuffre\\u0300,', 'lc2': '1846', 'marc_record_created': u'2009-05-11', 'publication_country': 'Italy', 'government_document': 'Unknown', 'resource_type': 'book', 'record_date': 2009}\n",
      "{'literary_form': 'Not fiction', 'language': 'Italian', 'serial_killer_guess': 'book', 'cataloging_source': u' ', 'first_author_name': u'Salanitro, Ugo A.', 'lc0': 'K', 'title': u'Il danno ambientale /', 'lccn': u'2009432177', 'lc1': 'KKH', 'target_audience': 'Unknown or not specified', 'lcc': 'KKH852.5', 'subject_places': [u'e-it---'], 'first_place': u'Roma :', 'lc_class_from_lc': True, 'first_publisher': u'Aracne,', 'lc2': '852.5', 'marc_record_created': u'2009-05-11', 'publication_country': 'Italy', 'government_document': 'Unknown', 'resource_type': 'book', 'record_date': 2009}\n",
      "{'literary_form': 'Not fiction', 'language': 'Italian', 'serial_killer_guess': 'book', 'cataloging_source': u' ', 'publication_country': 'Italy', 'lc0': 'K', 'title': u'La titolarita\\u0300 del diritto di sciopero /', 'lccn': u'2009432178', 'lc1': 'KKH', 'target_audience': 'Unknown or not specified', 'lcc': 'KKH1390.A67', 'subject_places': [u'e-it---'], 'first_place': u'Bari :', 'lc_class_from_lc': True, 'first_publisher': u'Cacucci,', 'lc2': '1390.', 'marc_record_created': u'2009-05-11', 'government_document': 'Unknown', 'resource_type': 'book', 'record_date': 2008}\n",
      "{'literary_form': 'Not fiction', 'serial_killer_guess': 'book', 'cataloging_source': u' ', 'publication_country': 'Italy', 'lc0': 'B', 'title': u'Attivita\\u0300 e virtu\\u0300 : anima e corpo in Aristotele /', 'lccn': u'2009432180', 'lc1': 'B', 'target_audience': 'Unknown or not specified', 'lcc': 'B491.M5', 'language': 'Italian', 'first_place': u'Milano :', 'lc_class_from_lc': True, 'first_publisher': u'V&P,', 'lc2': '491.', 'marc_record_created': u'2009-06-23', 'government_document': 'Unknown', 'resource_type': 'book', 'record_date': 2009}\n",
      "{'literary_form': 'Not fiction', 'lc_class_from_lc': True, 'serial_killer_guess': 'book', 'cataloging_source': u' ', 'language': 'Russian', 'lc0': 'H', 'title': u'Finansovye rezul\\u02b9taty uchastii\\ufe20a\\ufe21 SShA v mezhdunarodnom investit\\ufe20s\\ufe21ionnom obmene : (statisticheskii\\u0306 analiz) /', 'lccn': u'2011394870', 'lc1': 'HG', 'target_audience': 'Unknown or not specified', 'subject_places': [u'n-us---'], 'record_date': 2010, 'lcc': 'HG4910', 'first_author_name': u'Kadyrova, G. M. (Gul\\u02b9naz Mannurovna)', 'first_publisher': u'Ankil,', 'lc2': '4910', 'marc_record_created': u'2010-12-30', 'publication_country': 'Russia', 'government_document': 'Unknown', 'resource_type': 'book', 'first_place': u'Moskva :'}\n",
      "{'literary_form': 'Not fiction', 'lc_class_from_lc': True, 'serial_killer_guess': 'book', 'cataloging_source': u' ', 'language': 'Russian', 'lc0': 'H', 'title': u'Dinamika riskov sovremennogo terrorizma /', 'lccn': u'2011394871', 'lc1': 'HV', 'target_audience': 'Unknown or not specified', 'subject_places': [u'e-ru---'], 'record_date': 2010, 'lcc': 'HV6433.R9', 'first_author_name': u'Shcheblanova, V. V. (Veronika Vi\\ufe20a\\ufe21cheslavovna)', 'first_publisher': u'Saratovskii\\u0306 gos. tekhnicheskii\\u0306 universitet,', 'lc2': '6433.', 'marc_record_created': u'2010-12-21', 'publication_country': 'Russia', 'government_document': 'Unknown', 'resource_type': 'book', 'first_place': u'Saratov :'}\n",
      "{'literary_form': 'Not fiction', 'lc_class_from_lc': True, 'serial_killer_guess': 'book', 'cataloging_source': u' ', 'publication_country': 'Russia', 'lc0': 'H', 'title': u'Sot\\ufe20s\\ufe21ial\\u02b9nai\\ufe20a\\ufe21 psikhologii\\ufe20a\\ufe21 truda : teorii\\ufe20a\\ufe21 i praktika /', 'lccn': u'2011394872', 'lc1': 'HF', 'record_date': 2010, 'language': 'Russian', 'lcc': 'HF5548.8', 'target_audience': 'Unknown or not specified', 'first_publisher': u'Institut psikhologii RAN,', 'lc2': '5548.8', 'marc_record_created': u'2010-12-28', 'government_document': 'Unknown', 'resource_type': 'book', 'first_place': u'Moskva :'}\n",
      "{'literary_form': 'Not fiction', 'lc_class_from_lc': True, 'serial_killer_guess': 'book', 'cataloging_source': u' ', 'language': 'Russian', 'lc0': 'P', 'title': u'I\\ufe20A\\ufe21zykovoe sushchestvovanie sovremennogo gorozhanina : na materiale i\\ufe20a\\ufe21zyka Moskvy /', 'lccn': u'2011394874', 'lc1': 'PG', 'target_audience': 'Unknown or not specified', 'subject_places': [u'e-ru---'], 'record_date': 2010, 'lcc': 'PG2750.M58', 'first_author_name': u'Kitai\\u0306gorodskai\\ufe20a\\ufe21, M. V. (Margarita Vasil\\u02b9evna)', 'first_publisher': u'I\\ufe20A\\ufe21zyki slavi\\ufe20a\\ufe21nskoi\\u0306 kul\\u02b9tury,', 'lc2': '2750.', 'marc_record_created': u'2010-11-26', 'publication_country': 'Russia', 'government_document': 'Unknown', 'resource_type': 'book', 'first_place': u'Moskva :'}\n",
      "{'literary_form': 'Not fiction', 'lc_class_from_lc': True, 'serial_killer_guess': 'book', 'cataloging_source': u' ', 'publication_country': 'Russia', 'lc0': 'D', 'title': u'Rossii\\ufe20a\\ufe21--Chechni\\ufe20a\\ufe21 : t\\ufe20s\\ufe21ep\\u02b9 oshibok i prestuplenii\\u0306, 1994-1996 /', 'lccn': u'2011394875', 'lc1': 'DK', 'record_date': 2010, 'language': 'Russian', 'subject_places': [u'e-ru---'], 'lcc': 'DK511.C37', 'target_audience': 'Unknown or not specified', 'first_publisher': u'Prava cheloveka,', 'lc2': '511.', 'marc_record_created': u'2010-08-17', 'government_document': 'Unknown', 'resource_type': 'book', 'first_place': u'Moskva :'}\n",
      "{'literary_form': 'Not fiction', 'lc_class_from_lc': True, 'serial_killer_guess': 'book', 'cataloging_source': u' ', 'language': 'Russian', 'lc0': 'D', 'title': u'Krasnai\\ufe20a\\ufe21 Armii\\ufe20a\\ufe21 v nachale Vtoroi\\u0306 mirovoi\\u0306 : kak gotovilis\\u02b9 k voi\\u0306ne soldaty i marshaly /', 'lccn': u'2011394876', 'lc1': 'D', 'target_audience': 'Unknown or not specified', 'subject_places': [u'e-ur---'], 'record_date': 2010, 'lcc': 'D764', 'first_author_name': u'Veremeev, I\\ufe20U\\ufe21rii\\u0306 Georgievich.', 'first_publisher': u'E\\u0307KSMO :', 'lc2': '764', 'marc_record_created': u'2010-10-14', 'publication_country': 'Russia', 'government_document': 'Unknown', 'resource_type': 'book', 'first_place': u'Moskva :'}\n",
      "{'lc2': '3.', 'lc0': 'P', 'lc1': 'PZ', 'first_author_birth': 1865, 'cataloging_source': u' ', 'literary_form': 'Fiction', 'serial_killer_guess': 'book', 'publication_country': 'USA', 'title': u'The humorous tales of Rudyard Kipling.', 'first_author_name': u'Kipling, Rudyard, 1865-1936.', 'target_audience': 'Unknown or not specified', 'first_author_death': 1936, 'lcc': 'PZ3.K629', 'lc_class_from_lc': True, 'first_publisher': u'Triangle books', 'publication_state': 'New York (State)', 'language': 'English', 'lccn': u'41013231', 'government_document': 'Unknown', 'record_date': 1941, 'marc_record_created': u'1984-08-20', 'resource_type': 'book', 'first_place': u'New York,'}\n",
      "{'lc2': '3.', 'lc0': 'P', 'lc1': 'PZ', 'first_author_birth': 1890, 'cataloging_source': u' ', 'literary_form': 'Fiction', 'serial_killer_guess': 'book', 'publication_country': 'USA', 'title': u'Death goes native /', 'first_author_name': u'Long, Max Freedom, 1890-1971.', 'target_audience': 'Unknown or not specified', 'first_author_death': 1971, 'lcc': 'PZ3.L8543', 'lc_class_from_lc': True, 'first_publisher': u'J.B. Lippincott Co.,', 'publication_state': 'Pennsylvania', 'language': 'English', 'lccn': u'41013233', 'government_document': 'Unknown', 'record_date': 1941, 'marc_record_created': u'1984-10-30', 'resource_type': 'book', 'first_place': u'Philadelphia :'}\n",
      "{'lc2': '3.', 'lc0': 'P', 'lc1': 'PZ', 'first_author_birth': 1903, 'cataloging_source': u' ', 'literary_form': 'Not fiction', 'serial_killer_guess': 'book', 'publication_country': 'USA', 'title': u'Maigret keeps a rendezvous;', 'first_author_name': u'Simenon, Georges, 1903-1989.', 'target_audience': 'Unknown or not specified', 'first_author_death': 1989, 'lcc': 'PZ3.S5892', 'lc_class_from_lc': True, 'first_publisher': u'Harcourt, Brace and company', 'publication_state': 'New York (State)', 'language': 'English', 'lccn': u'41013234', 'government_document': 'Unknown', 'record_date': 1941, 'marc_record_created': u'1976-11-12', 'resource_type': 'book', 'first_place': u'New York,'}\n",
      "{'literary_form': 'Not fiction', 'publication_state': 'New York (State)', 'lc_class_from_lc': True, 'serial_killer_guess': 'book', 'cataloging_source': u' ', 'target_audience': 'Unknown or not specified', 'lc0': 'P', 'title': u'The sun is my undoing : a novel /', 'lccn': u'41013235', 'lc1': 'PZ', 'record_date': 1941, 'language': 'English', 'lcc': 'PZ3.S8157', 'first_author_name': u'Steen, Marguerite.', 'first_publisher': u'Viking Press,', 'lc2': '3.', 'marc_record_created': u'1985-09-18', 'publication_country': 'USA', 'government_document': 'Unknown', 'resource_type': 'book', 'first_place': u'New York :'}\n",
      "{'lc2': '3.', 'lc0': 'P', 'lc1': 'PZ', 'first_author_birth': 1667, 'cataloging_source': u' ', 'literary_form': 'Fiction', 'serial_killer_guess': 'book', 'publication_country': 'No place, unknown, or undetermined', 'title': u\"Gulliver's travels\", 'first_author_name': u'Swift, Jonathan, 1667-1745.', 'target_audience': 'Unknown or not specified', 'first_author_death': 1745, 'first_place': u'London,', 'lc_class_from_lc': True, 'first_publisher': u'J.M. Dent & sons ltd.;', 'language': 'English', 'lccn': u'41013236', 'government_document': 'Unknown', 'record_date': 1940, 'marc_record_created': u'1976-02-19', 'resource_type': 'book', 'lcc': 'PZ3.S9765'}\n",
      "{'lc2': '7.', 'lc0': 'P', 'lc1': 'PZ', 'first_author_birth': 1910, 'cataloging_source': u' ', 'literary_form': 'Fiction', 'serial_killer_guess': 'book', 'publication_country': 'USA', 'title': u'The seashore noisy book.', 'first_author_name': u'Brown, Margaret Wise, 1910-1952.', 'target_audience': 'Juvenile', 'first_author_death': 1952, 'lcc': 'PZ7.B8163', 'lc_class_from_lc': True, 'first_publisher': u'W. R. Scott', 'publication_state': 'New York (State)', 'language': 'English', 'lccn': u'41013238', 'government_document': 'Unknown', 'record_date': 1941, 'marc_record_created': u'1985-08-09', 'resource_type': 'book', 'first_place': u'New York,'}\n",
      "{'literary_form': 'Not fiction', 'lc_class_from_lc': True, 'serial_killer_guess': 'book', 'cataloging_source': u'd', 'publication_country': 'Spain', 'lc0': 'H', 'title': u'Trabajo y clase obrera hoy /', 'lccn': u'94193045', 'lc1': 'HD', 'record_date': 1991, 'language': 'Spanish', 'subject_places': [u'e-sp---'], 'lcc': 'HD8586.5', 'target_audience': 'Unknown or not specified', 'first_publisher': u'Fundacio\\u0301n de Investigaciones Marxistas,', 'lc2': '8586.5', 'marc_record_created': u'1994-08-09', 'government_document': 'Unknown', 'resource_type': 'book', 'first_place': u'Madrid :'}\n",
      "{'literary_form': 'Not fiction', 'lc_class_from_lc': True, 'serial_killer_guess': 'book', 'cataloging_source': u' ', 'publication_country': 'Germany', 'lc0': 'D', 'title': u'Josef Wirmer, ein Gegner Hitlers : Aufsa\\u0308tze und Dokumente /', 'lccn': u'94193046', 'lc1': 'DD', 'record_date': 1993, 'language': 'German', 'subject_places': [u'e-gx---'], 'lcc': 'DD256.35', 'target_audience': 'Unknown or not specified', 'first_publisher': u'H. Hermes,', 'lc2': '256.35', 'marc_record_created': u'1995-12-13', 'government_document': 'Unknown', 'resource_type': 'book', 'first_place': u'Warburg :'}\n",
      "{'literary_form': 'Not fiction', 'lc_class_from_lc': True, 'serial_killer_guess': 'book', 'cataloging_source': u' ', 'language': 'Spanish', 'lc0': 'H', 'title': u'El significado y gravamen de las reservas de la empresa : valoracio\\u0301n cri\\u0301tica /', 'lccn': u'94193047', 'lc1': 'HG', 'target_audience': 'Unknown or not specified', 'subject_places': [u'e-sp---'], 'record_date': 1991, 'lcc': 'HG4028.R5', 'first_author_name': u'Gonza\\u0301lez de Aguilar, Carmen.', 'first_publisher': u'Ministerio de Economi\\u0301a y Hacienda,', 'lc2': '4028.', 'marc_record_created': u'1994-08-09', 'publication_country': 'Spain', 'government_document': 'Federal/national', 'resource_type': 'book', 'first_place': u'Madrid :'}\n",
      "{'literary_form': 'Not fiction', 'lc_class_from_lc': True, 'serial_killer_guess': 'book', 'cataloging_source': u' ', 'target_audience': 'Unknown or not specified', 'lc0': 'M', 'title': u'Comercio internacional y parai\\u0301sos fiscales /', 'lccn': u'94193048 //r96', 'lc1': 'MLCS', 'record_date': 1992, 'language': 'Spanish', 'lcc': 'MLCS 96/10961 (H)', 'first_author_name': u'Arrabal, Pablo.', 'first_publisher': u'Ediciones Pira\\u0301mide,', 'lc2': '96', 'marc_record_created': u'1994-08-09', 'publication_country': 'Spain', 'government_document': 'Unknown', 'resource_type': 'book', 'first_place': u'Madrid :'}\n",
      "{'lc2': '755.5.', 'lc0': 'H', 'lc1': 'HQ', 'first_author_birth': 1963, 'cataloging_source': u'd', 'literary_form': 'Not fiction', 'serial_killer_guess': 'book', 'publication_country': 'Germany', 'title': u\"Bernhard Bavink : vo\\u0308lkische Weltanschauung, Rassenhygiene, 'Vernichtung lebensunwerten Lebens' : wissenschaftliches Gutachten im Auftrag der Stadt Bielefeld /\", 'first_author_name': u'Schwartz, Michael, 1963-', 'target_audience': 'Unknown or not specified', 'first_place': u'Bielefeld :', 'lc_class_from_lc': True, 'first_publisher': u'Stadtarchiv und Landesgeschichtliche Bibliothek Bielefeld,', 'lccn': u'94193049', 'language': 'German', 'government_document': 'Local', 'subject_places': [u'e-gx---'], 'record_date': 1993, 'marc_record_created': u'1994-08-09', 'resource_type': 'book', 'lcc': 'HQ755.5.G3'}\n",
      "{'literary_form': 'Not fiction', 'publication_state': 'Ontario', 'lc_class_from_lc': True, 'serial_killer_guess': 'book', 'cataloging_source': u'd', 'language': 'English', 'publication_country': 'Canada', 'title': u'Aging : Canadian perspectives /', 'lccn': u'94193050', 'lc0': 'H', 'lc1': 'HQ', 'record_date': 1994, 'subject_places': [u'n-cn---'], 'lcc': 'HQ1064.C38', 'target_audience': 'Unknown or not specified', 'first_publisher': u'Broadview Press ;', 'lc2': '1064.', 'marc_record_created': u'1994-08-09', 'government_document': 'Unknown', 'resource_type': 'book', 'first_place': u'Peterborough, Ont. ;'}\n",
      "{'lc2': '394', 'lc0': 'Q', 'lc1': 'QK', 'first_author_birth': 1931, 'cataloging_source': u'd', 'literary_form': 'Not fiction', 'serial_killer_guess': 'book', 'publication_country': 'South Africa', 'title': u'Southern African trees : a photographic guide /', 'first_author_name': u'Van Wyk, Piet, 1931-2006.', 'target_audience': 'Unknown or not specified', 'first_author_death': 2006, 'lcc': 'QK394', 'lc_class_from_lc': True, 'first_publisher': u'Struik,', 'lccn': u'94193051', 'language': 'English', 'government_document': 'Unknown', 'subject_places': [u'fs-----'], 'record_date': 1993, 'marc_record_created': u'1994-08-09', 'resource_type': 'book', 'first_place': u'Cape Town :'}\n",
      "{'literary_form': 'Not fiction', 'lc_class_from_lc': True, 'serial_killer_guess': 'book', 'cataloging_source': u'd', 'target_audience': 'Unknown or not specified', 'lc0': 'D', 'title': u'Immer alles geduldig getragen : als Ma\\u0308dchen in Theresienstadt, Auschwitz und Lenzing, seit 1945 in der Grafschaft Bentheim /', 'lccn': u'94193052', 'lc1': 'DS', 'record_date': 1993, 'language': 'German', 'lcc': 'DS135.G5', 'first_author_name': u'Wertheim, Hella.', 'first_publisher': u'Museumverein fu\\u0308r die Grafschaft Bentheim,', 'lc2': '135.', 'marc_record_created': u'1994-08-09', 'publication_country': 'Germany', 'government_document': 'Unknown', 'resource_type': 'book', 'first_place': u'[Nordhorn?] :'}\n",
      "{'lc2': '6627.', 'lc0': 'P', 'lc1': 'PQ', 'first_author_birth': 1923, 'cataloging_source': u' ', 'literary_form': 'Not fiction', 'serial_killer_guess': 'book', 'publication_country': 'Spain', 'title': u'Iconografi\\u0301as y estelas /', 'first_author_name': u'Ory, Carlos Edmundo de, 1923-2010.', 'target_audience': 'Unknown or not specified', 'first_author_death': 2010, 'first_place': u'Ca\\u0301diz [Spain] :', 'lc_class_from_lc': True, 'first_publisher': u'Servicio de Publicaciones de la Diputacio\\u0301n Provincial de Ca\\u0301diz,', 'language': 'Spanish', 'lccn': u'94193055', 'government_document': 'State, provincial, territorial, dependent, etc.', 'record_date': 1991, 'marc_record_created': u'1994-08-09', 'resource_type': 'book', 'lcc': 'PQ6627.R95'}\n",
      "{'literary_form': 'Not fiction', 'lc_class_from_lc': True, 'serial_killer_guess': 'book', 'cataloging_source': u'd', 'language': 'Spanish', 'lc0': 'N', 'title': u'Francisco Antonio Cano y sus disci\\u0301pulos : hacia la consolidacio\\u0301n de un arte nacional en el siglo XX /', 'lccn': u'2005420539', 'lc1': 'N', 'target_audience': 'Unknown or not specified', 'subject_places': [u's-ck---'], 'record_date': 2004, 'lcc': 'N6679.C36', 'first_author_name': u'Pe\\u0301rez Builes, Catalina.', 'first_publisher': u'La Carreta,', 'lc2': '6679.', 'marc_record_created': u'2005-04-05', 'publication_country': 'Colombia', 'government_document': 'Unknown', 'resource_type': 'book', 'first_place': u'Medelli\\u0301n :'}\n",
      "{'literary_form': 'Not fiction', 'lc_class_from_lc': True, 'serial_killer_guess': 'book', 'cataloging_source': u' ', 'target_audience': 'Unknown or not specified', 'lc0': 'M', 'title': u'Arcadio.', 'lccn': u'2005420540', 'lc1': 'MLCM', 'record_date': 2003, 'language': 'Spanish', 'lcc': 'MLCM 2005/01920 (N)', 'first_author_name': u'Gonza\\u0301lez, Arcadio.', 'first_publisher': u'Art Editions,', 'lc2': '2005', 'marc_record_created': u'2005-04-05', 'publication_country': 'Colombia', 'government_document': 'Unknown', 'resource_type': 'book', 'first_place': u'[Bogota\\u0301, Colombia] :'}\n",
      "{'literary_form': 'Not fiction', 'lc_class_from_lc': True, 'serial_killer_guess': 'book', 'cataloging_source': u'c', 'publication_country': 'Spain', 'lc0': 'N', 'title': u'Escuela de la Habana : tradicio\\u0301n y modernidad : mayo-junio 2004 : coleccio\\u0301n del Museo Nacional de Bellas Artes de la Habana.', 'lccn': u'2005420541', 'lc1': 'N', 'record_date': 2004, 'language': 'Spanish', 'subject_places': [u'nwcu---'], 'lcc': 'N6604.H33', 'target_audience': 'Unknown or not specified', 'first_publisher': u'Excma. Diputacio\\u0301n de Alicante, Area de Cultura y Educacio\\u0301n,', 'lc2': '6604.', 'marc_record_created': u'2005-03-24', 'government_document': 'State, provincial, territorial, dependent, etc.', 'resource_type': 'book', 'first_place': u'[Alicante, Spain] :'}\n"
     ]
    }
   ],
   "source": [
    "root = \"/home/bschmidt/LOC_catalog/books/\"\n",
    "all_hathi = All_Hathi(root,cat=\"LOC\",n_threads = 6)\n",
    "\n",
    "#for i,entry in enumerate(all_hathi):\n",
    "for i,entry in enumerate(all_hathi):\n",
    "    demo.append(entry)\n",
    "    if i > 10:\n",
    "        break\n",
    "for d in demo:\n",
    "    print d"
   ]
  },
  {
   "cell_type": "markdown",
   "metadata": {
    "deletable": true,
    "editable": true
   },
   "source": [
    "This class has the base names of the files and my directory structure hard-coded in: run elsewhere, you'll need to change that"
   ]
  },
  {
   "cell_type": "code",
   "execution_count": 46,
   "metadata": {
    "collapsed": false,
    "deletable": true,
    "editable": true
   },
   "outputs": [],
   "source": []
  },
  {
   "cell_type": "markdown",
   "metadata": {
    "deletable": true,
    "editable": true
   },
   "source": [
    "Here's where we write it out."
   ]
  },
  {
   "cell_type": "code",
   "execution_count": 63,
   "metadata": {
    "collapsed": false,
    "deletable": true,
    "editable": true
   },
   "outputs": [
    {
     "name": "stdout",
     "output_type": "stream",
     "text": [
      "/home/bschmidt/LOC_catalog/books/BooksAll.2014.part24.utf8\n",
      "/home/bschmidt/LOC_catalog/books/BooksAll.2014.part25.utf8\n",
      "/home/bschmidt/LOC_catalog/books/BooksAll.2014.part02.utf8\n",
      "/home/bschmidt/LOC_catalog/books/BooksAll.2014.part27.utf8\n",
      "/home/bschmidt/LOC_catalog/books/BooksAll.2014.part13.utf8\n",
      "/home/bschmidt/LOC_catalog/books/BooksAll.2014.part09.utf8\n",
      "Reading item no. 0\n",
      "Reading item no. 250000\n",
      "Reading item no. 500000\n",
      "Reading item no. 750000\n",
      "Reading item no. 1000000\n",
      "Reading item no. 1250000\n"
     ]
    },
    {
     "name": "stderr",
     "output_type": "stream",
     "text": [
      "ERROR:root:Bad government lookup. Often an indicator of malformed 008: 010205s1996    io       b  f000000iind  \n",
      "Traceback (most recent call last):\n",
      "  File \"bookwormMARC/bookwormMARC.py\", line 669, in government_document\n",
      "    return self.gov_lookup[self.data[28]]\n",
      "KeyError: u'0'\n",
      "ERROR:root:Bad government lookup. Often an indicator of malformed 008: 000428s1985    th      bb   0000 0 tha  \n",
      "Traceback (most recent call last):\n",
      "  File \"bookwormMARC/bookwormMARC.py\", line 669, in government_document\n",
      "    return self.gov_lookup[self.data[28]]\n",
      "KeyError: u'0'\n"
     ]
    },
    {
     "name": "stdout",
     "output_type": "stream",
     "text": [
      "/home/bschmidt/LOC_catalog/books/BooksAll.2014.part12.utf8\n",
      "/home/bschmidt/LOC_catalog/books/BooksAll.2014.part37.utf8\n",
      "/home/bschmidt/LOC_catalog/books/BooksAll.2014.part11.utf8\n",
      "Reading item no. 1500000\n",
      "/home/bschmidt/LOC_catalog/books/BooksAll.2014.part35.utf8\n",
      "/home/bschmidt/LOC_catalog/books/BooksAll.2014.part36.utf8\n",
      "/home/bschmidt/LOC_catalog/books/BooksAll.2014.part10.utf8\n",
      "Reading item no. 1750000\n"
     ]
    },
    {
     "name": "stderr",
     "output_type": "stream",
     "text": [
      "ERROR:root:Bad government lookup. Often an indicator of malformed 008: 760223s1975    xx           x00011 spa  \n",
      "Traceback (most recent call last):\n",
      "  File \"bookwormMARC/bookwormMARC.py\", line 669, in government_document\n",
      "    return self.gov_lookup[self.data[28]]\n",
      "KeyError: u'x'\n"
     ]
    },
    {
     "name": "stdout",
     "output_type": "stream",
     "text": [
      "Reading item no. 2000000\n",
      "Reading item no. 2250000\n",
      "Reading item no. 2500000\n",
      "Reading item no. 2750000\n",
      "/home/bschmidt/LOC_catalog/books/BooksAll.2014.part23.utf8\n",
      "/home/bschmidt/LOC_catalog/books/BooksAll.2014.part08.utf8\n",
      "/home/bschmidt/LOC_catalog/books/BooksAll.2014.part41.utf8\n",
      "Reading item no. 3000000\n",
      "/home/bschmidt/LOC_catalog/books/BooksAll.2014.part31.utf8\n",
      "/home/bschmidt/LOC_catalog/books/BooksAll.2014.part39.utf8\n",
      "/home/bschmidt/LOC_catalog/books/BooksAll.2014.part03.utf8\n",
      "Reading item no. 3250000\n",
      "/home/bschmidt/LOC_catalog/books/BooksAll.2014.part18.utf8\n",
      "Reading item no. 3500000\n",
      "Reading item no. 3750000\n",
      "Reading item no. 4000000\n",
      "/home/bschmidt/LOC_catalog/books/BooksAll.2014.part04.utf8\n",
      "Reading item no. 4250000\n",
      "/home/bschmidt/LOC_catalog/books/BooksAll.2014.part38.utf8\n",
      "Reading item no. 4500000\n",
      "/home/bschmidt/LOC_catalog/books/BooksAll.2014.part32.utf8\n",
      "/home/bschmidt/LOC_catalog/books/BooksAll.2014.part20.utf8\n",
      "Reading item no. 4750000\n",
      "/home/bschmidt/LOC_catalog/books/BooksAll.2014.part40.utf8\n",
      "/home/bschmidt/LOC_catalog/books/BooksAll.2014.part05.utf8\n",
      "Reading item no. 5000000\n",
      "Reading item no. 5250000\n",
      "Reading item no. 5500000\n",
      "/home/bschmidt/LOC_catalog/books/BooksAll.2014.part33.utf8\n",
      "Reading item no. 5750000\n",
      "/home/bschmidt/LOC_catalog/books/BooksAll.2014.part16.utf8\n",
      "Reading item no. 6000000\n",
      "/home/bschmidt/LOC_catalog/books/BooksAll.2014.part21.utf8\n",
      "/home/bschmidt/LOC_catalog/books/BooksAll.2014.part07.utf8\n",
      "Reading item no. 6250000\n",
      "/home/bschmidt/LOC_catalog/books/BooksAll.2014.part06.utf8\n",
      "Reading item no. 6500000\n",
      "Reading item no. 6750000\n",
      "Reading item no. 7000000\n",
      "/home/bschmidt/LOC_catalog/books/BooksAll.2014.part17.utf8\n",
      "/home/bschmidt/LOC_catalog/books/BooksAll.2014.part01.utf8\n",
      "Reading item no. 7250000\n",
      "/home/bschmidt/LOC_catalog/books/BooksAll.2014.part29.utf8\n",
      "/home/bschmidt/LOC_catalog/books/BooksAll.2014.part34.utf8\n",
      "Reading item no. 7500000\n",
      "/home/bschmidt/LOC_catalog/books/BooksAll.2014.part28.utf8\n",
      "Reading item no. 7750000\n",
      "Reading item no. 8000000\n",
      "/home/bschmidt/LOC_catalog/books/BooksAll.2014.part22.utf8\n",
      "Reading item no. 8250000\n"
     ]
    },
    {
     "name": "stderr",
     "output_type": "stream",
     "text": [
      "ERROR:root:Bad government lookup. Often an indicator of malformed 008: 000310s1988    ir           000000sswa  \n",
      "Traceback (most recent call last):\n",
      "  File \"bookwormMARC/bookwormMARC.py\", line 669, in government_document\n",
      "    return self.gov_lookup[self.data[28]]\n",
      "KeyError: u'0'\n",
      "ERROR:root:Bad government lookup. Often an indicator of malformed 008: 990407s1997    sg a     b   0000 0 fre  \n",
      "Traceback (most recent call last):\n",
      "  File \"bookwormMARC/bookwormMARC.py\", line 669, in government_document\n",
      "    return self.gov_lookup[self.data[28]]\n",
      "KeyError: u'0'\n",
      "ERROR:root:Bad government lookup. Often an indicator of malformed 008: 990408s1998    sg a         0000 0 fre  \n",
      "Traceback (most recent call last):\n",
      "  File \"bookwormMARC/bookwormMARC.py\", line 669, in government_document\n",
      "    return self.gov_lookup[self.data[28]]\n",
      "KeyError: u'0'\n",
      "ERROR:root:Bad government lookup. Often an indicator of malformed 008: 941006s1999    ii           000000ssom  \n",
      "Traceback (most recent call last):\n",
      "  File \"bookwormMARC/bookwormMARC.py\", line 669, in government_document\n",
      "    return self.gov_lookup[self.data[28]]\n",
      "KeyError: u'0'\n",
      "ERROR:root:Bad government lookup. Often an indicator of malformed 008: 990604s1997    sg a         0000 0 fre  \n",
      "Traceback (most recent call last):\n",
      "  File \"bookwormMARC/bookwormMARC.py\", line 669, in government_document\n",
      "    return self.gov_lookup[self.data[28]]\n",
      "KeyError: u'0'\n",
      "ERROR:root:Bad government lookup. Often an indicator of malformed 008: 001016s1997    io       b   b000 0 ind  \n",
      "Traceback (most recent call last):\n",
      "  File \"bookwormMARC/bookwormMARC.py\", line 669, in government_document\n",
      "    return self.gov_lookup[self.data[28]]\n",
      "KeyError: u'b'\n"
     ]
    },
    {
     "name": "stdout",
     "output_type": "stream",
     "text": [
      "/home/bschmidt/LOC_catalog/books/BooksAll.2014.part14.utf8\n",
      "Reading item no. 8500000\n",
      "Reading item no. 8750000\n",
      "/home/bschmidt/LOC_catalog/books/BooksAll.2014.part26.utf8\n",
      "/home/bschmidt/LOC_catalog/books/BooksAll.2014.part30.utf8\n"
     ]
    },
    {
     "name": "stderr",
     "output_type": "stream",
     "text": [
      "ERROR:root:Bad government lookup. Often an indicator of malformed 008: 021003s1900    ls           0000 0 lao  \n",
      "Traceback (most recent call last):\n",
      "  File \"bookwormMARC/bookwormMARC.py\", line 669, in government_document\n",
      "    return self.gov_lookup[self.data[28]]\n",
      "KeyError: u'0'\n",
      "ERROR:root:Bad government lookup. Often an indicator of malformed 008: 021003s1838    ls           0000 0 lao  \n",
      "Traceback (most recent call last):\n",
      "  File \"bookwormMARC/bookwormMARC.py\", line 669, in government_document\n",
      "    return self.gov_lookup[self.data[28]]\n",
      "KeyError: u'0'\n",
      "ERROR:root:Bad government lookup. Often an indicator of malformed 008: 021003s1900    ls           0000 0 lao  \n",
      "Traceback (most recent call last):\n",
      "  File \"bookwormMARC/bookwormMARC.py\", line 669, in government_document\n",
      "    return self.gov_lookup[self.data[28]]\n",
      "KeyError: u'0'\n",
      "ERROR:root:Bad government lookup. Often an indicator of malformed 008: 021003s1944    ls           0000 0 lao  \n",
      "Traceback (most recent call last):\n",
      "  File \"bookwormMARC/bookwormMARC.py\", line 669, in government_document\n",
      "    return self.gov_lookup[self.data[28]]\n",
      "KeyError: u'0'\n",
      "ERROR:root:Bad government lookup. Often an indicator of malformed 008: 021003s1900    ls           0000 0 lao  \n",
      "Traceback (most recent call last):\n",
      "  File \"bookwormMARC/bookwormMARC.py\", line 669, in government_document\n",
      "    return self.gov_lookup[self.data[28]]\n",
      "KeyError: u'0'\n",
      "ERROR:root:Bad government lookup. Often an indicator of malformed 008: 021003s1900    ls           0000 0 lao  \n",
      "Traceback (most recent call last):\n",
      "  File \"bookwormMARC/bookwormMARC.py\", line 669, in government_document\n",
      "    return self.gov_lookup[self.data[28]]\n",
      "KeyError: u'0'\n",
      "ERROR:root:Bad government lookup. Often an indicator of malformed 008: 021003s1932    ls           0000 0 lao  \n",
      "Traceback (most recent call last):\n",
      "  File \"bookwormMARC/bookwormMARC.py\", line 669, in government_document\n",
      "    return self.gov_lookup[self.data[28]]\n",
      "KeyError: u'0'\n",
      "ERROR:root:Bad government lookup. Often an indicator of malformed 008: 021003s1974    ls           0000 0 lao  \n",
      "Traceback (most recent call last):\n",
      "  File \"bookwormMARC/bookwormMARC.py\", line 669, in government_document\n",
      "    return self.gov_lookup[self.data[28]]\n",
      "KeyError: u'0'\n"
     ]
    },
    {
     "name": "stdout",
     "output_type": "stream",
     "text": [
      "Reading item no. 9000000\n",
      "Reading item no. 9250000\n",
      "Reading item no. 9500000\n"
     ]
    },
    {
     "name": "stderr",
     "output_type": "stream",
     "text": [
      "ERROR:root:Bad government lookup. Often an indicator of malformed 008: 000425s1995    th      bb   0000 0 tha  \n",
      "Traceback (most recent call last):\n",
      "  File \"bookwormMARC/bookwormMARC.py\", line 669, in government_document\n",
      "    return self.gov_lookup[self.data[28]]\n",
      "KeyError: u'0'\n"
     ]
    },
    {
     "name": "stdout",
     "output_type": "stream",
     "text": [
      "/home/bschmidt/LOC_catalog/books/BooksAll.2014.part15.utf8\n",
      "Reading item no. 9750000\n",
      "/home/bschmidt/LOC_catalog/books/BooksAll.2014.part19.utf8\n",
      "Reading item no. 10000000\n",
      "dead process\n",
      "dead process\n",
      "dead process\n",
      "dead process\n",
      "dead process\n",
      "dead process\n"
     ]
    }
   ],
   "source": [
    "if __name__==\"__main__\":\n",
    "    all_hathi = All_Hathi(root,cat=\"LOC\",n_threads = 6)\n",
    "    output = open(\"/home/bschmidt/bookworms/LOC/input.txt\",\"w\")\n",
    "    dump = open(\"/home/bschmidt/bookworms/LOC/jsoncatalog.txt\",\"w\")\n",
    "    for i,vol in enumerate(all_hathi):\n",
    "        if i % 250000 == 0:\n",
    "            sys.stdout.write(\"Reading item no. \" + str(i) + \"\\n\")\n",
    "        try:\n",
    "            vol['filename'] = vol['lccn']\n",
    "            dump.write(json.dumps(vol) + \"\\n\")\n",
    "            output.write(\"{}\\t{}\\n\".format(vol['filename'],vol['title'].encode(\"utf-8\")))\n",
    "        except OverflowError:\n",
    "            pass#print vol\n",
    "        except KeyError:\n",
    "            pass\n",
    "    dump.close()"
   ]
  },
  {
   "cell_type": "code",
   "execution_count": 56,
   "metadata": {
    "collapsed": false,
    "deletable": true,
    "editable": true
   },
   "outputs": [
    {
     "ename": "OverflowError",
     "evalue": "Unterminated UTF-8 sequence when encoding string",
     "output_type": "error",
     "traceback": [
      "\u001b[0;31m\u001b[0m",
      "\u001b[0;31mOverflowError\u001b[0mTraceback (most recent call last)",
      "\u001b[0;32m<ipython-input-56-7f37c695faed>\u001b[0m in \u001b[0;36m<module>\u001b[0;34m()\u001b[0m\n\u001b[0;32m----> 1\u001b[0;31m \u001b[0mjson\u001b[0m\u001b[0;34m.\u001b[0m\u001b[0mdumps\u001b[0m\u001b[0;34m(\u001b[0m\u001b[0mvol\u001b[0m\u001b[0;34m)\u001b[0m\u001b[0;34m\u001b[0m\u001b[0m\n\u001b[0m",
      "\u001b[0;31mOverflowError\u001b[0m: Unterminated UTF-8 sequence when encoding string"
     ]
    }
   ],
   "source": []
  },
  {
   "cell_type": "code",
   "execution_count": null,
   "metadata": {
    "collapsed": true,
    "deletable": true,
    "editable": true
   },
   "outputs": [],
   "source": []
  }
 ],
 "metadata": {
  "kernelspec": {
   "display_name": "Python 2",
   "language": "python",
   "name": "python2"
  },
  "language_info": {
   "codemirror_mode": {
    "name": "ipython",
    "version": 2
   },
   "file_extension": ".py",
   "mimetype": "text/x-python",
   "name": "python",
   "nbconvert_exporter": "python",
   "pygments_lexer": "ipython2",
   "version": "2.7.12"
  }
 },
 "nbformat": 4,
 "nbformat_minor": 0
}
